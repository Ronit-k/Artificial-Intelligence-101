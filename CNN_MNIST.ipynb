{
  "nbformat": 4,
  "nbformat_minor": 0,
  "metadata": {
    "colab": {
      "provenance": [],
      "gpuType": "T4"
    },
    "kernelspec": {
      "name": "python3",
      "display_name": "Python 3"
    },
    "language_info": {
      "name": "python"
    },
    "accelerator": "GPU"
  },
  "cells": [
    {
      "cell_type": "code",
      "source": [
        "import torch\n",
        "import torch.nn as nn\n",
        "import torch.optim as optim\n",
        "import torchvision\n",
        "import torchvision.transforms as transforms\n",
        "from torch.utils.data import DataLoader\n",
        "import time\n",
        "import matplotlib.pyplot as plt"
      ],
      "metadata": {
        "id": "4YRVlJcg2sm7"
      },
      "execution_count": null,
      "outputs": []
    },
    {
      "cell_type": "code",
      "source": [
        "device=torch.device('cuda' if torch.cuda.is_available() else 'cpu')\n",
        "print(f\"Using Device : {device}\")"
      ],
      "metadata": {
        "colab": {
          "base_uri": "https://localhost:8080/"
        },
        "id": "IORvZ6TI33rE",
        "outputId": "0b09a835-d816-406e-b49e-e38607b59f77"
      },
      "execution_count": null,
      "outputs": [
        {
          "output_type": "stream",
          "name": "stdout",
          "text": [
            "Using Device : cuda\n"
          ]
        }
      ]
    },
    {
      "cell_type": "markdown",
      "source": [],
      "metadata": {
        "id": "EILQWYvP5x3p"
      }
    },
    {
      "cell_type": "code",
      "source": [
        "transform = transforms.Compose([\n",
        "    transforms.ToTensor(),\n",
        "    transforms.Normalize((0.1307,), (0.3081,))\n",
        "])"
      ],
      "metadata": {
        "id": "Uqe-Wxhr4HDO"
      },
      "execution_count": null,
      "outputs": []
    },
    {
      "cell_type": "code",
      "source": [
        "train_dataset = torchvision.datasets.MNIST(root='./data', train=True, download=True, transform=transform)\n",
        "test_dataset = torchvision.datasets.MNIST(root='./data', train=False, download=True, transform=transform)"
      ],
      "metadata": {
        "collapsed": true,
        "id": "DIJCjwmD4lIe",
        "colab": {
          "base_uri": "https://localhost:8080/"
        },
        "outputId": "46813fb7-86f6-45e0-c836-5913aa533b59"
      },
      "execution_count": null,
      "outputs": [
        {
          "output_type": "stream",
          "name": "stderr",
          "text": [
            "100%|██████████| 9.91M/9.91M [00:00<00:00, 16.2MB/s]\n",
            "100%|██████████| 28.9k/28.9k [00:00<00:00, 482kB/s]\n",
            "100%|██████████| 1.65M/1.65M [00:00<00:00, 4.48MB/s]\n",
            "100%|██████████| 4.54k/4.54k [00:00<00:00, 7.70MB/s]\n"
          ]
        }
      ]
    },
    {
      "cell_type": "code",
      "source": [
        "train_loader = DataLoader(train_dataset, batch_size=64, shuffle=True)\n",
        "test_loader = DataLoader(test_dataset, batch_size=1000, shuffle=False)"
      ],
      "metadata": {
        "id": "dLaAh75Q5N2O"
      },
      "execution_count": null,
      "outputs": []
    },
    {
      "cell_type": "code",
      "source": [
        "fig, axes = plt.subplots(1, 10, figsize=(15, 2))\n",
        "\n",
        "for i in range(10):\n",
        "  image, label = train_dataset[i]\n",
        "  axes[i].imshow(image.squeeze(), cmap='gray')\n",
        "  axes[i].set_title(f\"Class: {label}\")\n",
        "  axes[i].axis(\"off\")\n",
        "plt.show()"
      ],
      "metadata": {
        "colab": {
          "base_uri": "https://localhost:8080/",
          "height": 157
        },
        "id": "gMOb9Ndn5rp6",
        "outputId": "38a02e18-41c2-4cee-fa9f-91d16aefdcea"
      },
      "execution_count": null,
      "outputs": [
        {
          "output_type": "display_data",
          "data": {
            "text/plain": [
              "<Figure size 1500x200 with 10 Axes>"
            ],
            "image/png": "[encoded data removed]"
          },
          "metadata": {}
        }
      ]
    },
    {
      "cell_type": "code",
      "source": [
        "class CNN_example(nn.Module):\n",
        "  def __init__(self):\n",
        "    super(CNN_example, self).__init__()\n",
        "    self.conv1 = nn.Conv2d(1, 32, kernel_size=3, stride=1, padding=1)\n",
        "    self.conv2 = nn.Conv2d(32, 64, kernel_size=3, stride=1, padding=1)\n",
        "    self.conv3 = nn.Conv2d(64, 128, kernel_size=3, stride=1, padding=1) #added one more CNN layer\n",
        "    self.pool = nn.MaxPool2d(kernel_size=2, stride=2)\n",
        "    self.fc1 = nn.Linear(128 * 3 * 3, 128)\n",
        "    self.fc2 = nn.Linear(128, 32) #added two more fully connected layer\n",
        "    self.fc3 = nn.Linear(32, 10)\n",
        "    self.dropout = nn.Dropout(0.2) #utilised dropout function\n",
        "    self.relu = nn.ReLU()\n",
        "\n",
        "  def forward(self, x):\n",
        "    x = self.relu(self.conv1(x))\n",
        "    x = self.pool(x)\n",
        "    x = self.relu(self.conv2(x))\n",
        "    x = self.pool(x)\n",
        "    x = self.relu(self.conv3(x))\n",
        "    x = self.pool(x)\n",
        "    x = x.view(-1, 128 * 3 * 3)\n",
        "    x = self.dropout(self.relu(self.fc1(x)))\n",
        "    x = self.relu(self.fc2(x))\n",
        "    x = self.fc3(x)\n",
        "    return x\n",
        "\n"
      ],
      "metadata": {
        "id": "ASEbvYOM6xA8"
      },
      "execution_count": null,
      "outputs": []
    },
    {
      "cell_type": "code",
      "source": [
        "model = CNN_example()\n",
        "model"
      ],
      "metadata": {
        "colab": {
          "base_uri": "https://localhost:8080/"
        },
        "id": "kCuURIfjglPm",
        "outputId": "50faa2fa-ecb7-4de9-add1-83fdbba48ed8"
      },
      "execution_count": null,
      "outputs": [
        {
          "output_type": "execute_result",
          "data": {
            "text/plain": [
              "CNN_example(\n",
              "  (conv1): Conv2d(1, 32, kernel_size=(3, 3), stride=(1, 1), padding=(1, 1))\n",
              "  (conv2): Conv2d(32, 64, kernel_size=(3, 3), stride=(1, 1), padding=(1, 1))\n",
              "  (conv3): Conv2d(64, 128, kernel_size=(3, 3), stride=(1, 1), padding=(1, 1))\n",
              "  (pool): MaxPool2d(kernel_size=2, stride=2, padding=0, dilation=1, ceil_mode=False)\n",
              "  (fc1): Linear(in_features=1152, out_features=128, bias=True)\n",
              "  (fc2): Linear(in_features=128, out_features=32, bias=True)\n",
              "  (fc3): Linear(in_features=32, out_features=10, bias=True)\n",
              "  (dropout): Dropout(p=0.2, inplace=False)\n",
              "  (relu): ReLU()\n",
              ")"
            ]
          },
          "metadata": {},
          "execution_count": 11
        }
      ]
    },
    {
      "cell_type": "code",
      "source": [
        "start_time = time.time()\n",
        "model=CNN_example().to(device)\n",
        "criterion=nn.CrossEntropyLoss()\n",
        "optimizer=optim.Adam(model.parameters(),lr=0.001)\n",
        "num_epochs=5\n",
        "for epoch in range(num_epochs):\n",
        "    model.train()\n",
        "    running_loss=0\n",
        "    for i,(images,labels) in enumerate(train_loader):\n",
        "        images,labels=images.to(device), labels.to(device)\n",
        "\n",
        "        optimizer.zero_grad()\n",
        "        outputs=model(images)\n",
        "        loss=criterion(outputs,labels)\n",
        "        loss.backward()\n",
        "        optimizer.step()\n",
        "\n",
        "        running_loss+=loss.item()\n",
        "\n",
        "        if(i+1)%100==0:\n",
        "            print(f'Epoch [{epoch+1}/{num_epochs}], Step [{i+1}/{len(train_loader)}], Loss: {running_loss/100:.4f}')\n",
        "            running_loss = 0.0\n",
        "end_time = time.time()\n",
        "execution_time = end_time - start_time\n",
        "print(f\"Time taken: {execution_time:.4f} seconds\")"
      ],
      "metadata": {
        "colab": {
          "base_uri": "https://localhost:8080/"
        },
        "id": "OBaCxDyX8ZLc",
        "outputId": "06ad76bc-2a06-4117-8829-c70b3b165885"
      },
      "execution_count": null,
      "outputs": [
        {
          "output_type": "stream",
          "name": "stdout",
          "text": [
            "Epoch [1/5], Step [100/938], Loss: 1.0233\n",
            "Epoch [1/5], Step [200/938], Loss: 0.2180\n",
            "Epoch [1/5], Step [300/938], Loss: 0.1528\n",
            "Epoch [1/5], Step [400/938], Loss: 0.1258\n",
            "Epoch [1/5], Step [500/938], Loss: 0.1136\n",
            "Epoch [1/5], Step [600/938], Loss: 0.1087\n",
            "Epoch [1/5], Step [700/938], Loss: 0.0785\n",
            "Epoch [1/5], Step [800/938], Loss: 0.0886\n",
            "Epoch [1/5], Step [900/938], Loss: 0.0779\n",
            "Epoch [2/5], Step [100/938], Loss: 0.0631\n",
            "Epoch [2/5], Step [200/938], Loss: 0.0547\n",
            "Epoch [2/5], Step [300/938], Loss: 0.0574\n",
            "Epoch [2/5], Step [400/938], Loss: 0.0619\n",
            "Epoch [2/5], Step [500/938], Loss: 0.0501\n",
            "Epoch [2/5], Step [600/938], Loss: 0.0600\n",
            "Epoch [2/5], Step [700/938], Loss: 0.0593\n",
            "Epoch [2/5], Step [800/938], Loss: 0.0536\n",
            "Epoch [2/5], Step [900/938], Loss: 0.0473\n",
            "Epoch [3/5], Step [100/938], Loss: 0.0409\n",
            "Epoch [3/5], Step [200/938], Loss: 0.0465\n",
            "Epoch [3/5], Step [300/938], Loss: 0.0402\n",
            "Epoch [3/5], Step [400/938], Loss: 0.0428\n",
            "Epoch [3/5], Step [500/938], Loss: 0.0411\n",
            "Epoch [3/5], Step [600/938], Loss: 0.0356\n",
            "Epoch [3/5], Step [700/938], Loss: 0.0402\n",
            "Epoch [3/5], Step [800/938], Loss: 0.0471\n",
            "Epoch [3/5], Step [900/938], Loss: 0.0406\n",
            "Epoch [4/5], Step [100/938], Loss: 0.0265\n",
            "Epoch [4/5], Step [200/938], Loss: 0.0305\n",
            "Epoch [4/5], Step [300/938], Loss: 0.0325\n",
            "Epoch [4/5], Step [400/938], Loss: 0.0361\n",
            "Epoch [4/5], Step [500/938], Loss: 0.0420\n",
            "Epoch [4/5], Step [600/938], Loss: 0.0365\n",
            "Epoch [4/5], Step [700/938], Loss: 0.0279\n",
            "Epoch [4/5], Step [800/938], Loss: 0.0295\n",
            "Epoch [4/5], Step [900/938], Loss: 0.0248\n",
            "Epoch [5/5], Step [100/938], Loss: 0.0322\n",
            "Epoch [5/5], Step [200/938], Loss: 0.0224\n",
            "Epoch [5/5], Step [300/938], Loss: 0.0300\n",
            "Epoch [5/5], Step [400/938], Loss: 0.0266\n",
            "Epoch [5/5], Step [500/938], Loss: 0.0254\n",
            "Epoch [5/5], Step [600/938], Loss: 0.0247\n",
            "Epoch [5/5], Step [700/938], Loss: 0.0309\n",
            "Epoch [5/5], Step [800/938], Loss: 0.0288\n",
            "Epoch [5/5], Step [900/938], Loss: 0.0315\n",
            "Time taken: 83.4631 seconds\n"
          ]
        }
      ]
    },
    {
      "cell_type": "code",
      "source": [],
      "metadata": {
        "id": "Vjq9sGLWFCQu"
      },
      "execution_count": null,
      "outputs": []
    },
    {
      "cell_type": "code",
      "source": [
        "model.eval() #dropout\n",
        "correct = 0\n",
        "total = 0\n",
        "with torch.no_grad():\n",
        "    for images, labels in test_loader:\n",
        "        images, labels = images.to(device), labels.to(device)\n",
        "        outputs = model(images)\n",
        "\n",
        "        _, predicted = torch.max(outputs.data, 1) # (Batch_size,10) [0.5 -10 12] 2\n",
        "        total += labels.size(0)\n",
        "        correct += (labels == predicted).sum().item()\n",
        "    print(f\"Accuracy on the test set: {100 * correct / total:.2f}%\")"
      ],
      "metadata": {
        "colab": {
          "base_uri": "https://localhost:8080/"
        },
        "id": "yjSrNRTT9yOK",
        "outputId": "3b14d2ac-c8ac-4701-e616-fc5f9970b103"
      },
      "execution_count": null,
      "outputs": [
        {
          "output_type": "stream",
          "name": "stdout",
          "text": [
            "Accuracy on the test set: 99.15%\n"
          ]
        }
      ]
    },
    {
      "cell_type": "code",
      "source": [
        "torch.save(model.state_dict(), 'simple_cnn.pth')\n",
        "print(\"Model saved as ' simple_cnn.pth' \")"
      ],
      "metadata": {
        "colab": {
          "base_uri": "https://localhost:8080/"
        },
        "id": "ekTiEig0Bqrm",
        "outputId": "22d08ee4-3672-46fa-e923-f6c31105f0a9"
      },
      "execution_count": null,
      "outputs": [
        {
          "output_type": "stream",
          "name": "stdout",
          "text": [
            "Model saved as ' simple_cnn.pth' \n"
          ]
        }
      ]
    }
  ]
}